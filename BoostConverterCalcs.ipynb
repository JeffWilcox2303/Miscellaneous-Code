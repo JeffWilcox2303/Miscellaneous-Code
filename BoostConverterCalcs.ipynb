{
 "cells": [
  {
   "cell_type": "code",
   "execution_count": 8,
   "id": "7eee972b",
   "metadata": {},
   "outputs": [
    {
     "name": "stdout",
     "output_type": "stream",
     "text": [
      "0.24000000000000002\n"
     ]
    }
   ],
   "source": [
    "import numpy as np\n",
    "vin = 1.5 # Volts, AA Battery Voltage\n",
    "vout = 3.6 # Volts, input to Vsys for RP2040 for reduced power dissipation in LDO\n",
    "iout = 100e-3 # Amps, current draw from the RP2040\n",
    "iin = vout*iout/vin\n",
    "print(iin)"
   ]
  },
  {
   "cell_type": "code",
   "execution_count": 9,
   "id": "54c6e864",
   "metadata": {},
   "outputs": [
    {
     "name": "stdout",
     "output_type": "stream",
     "text": [
      "0.007291666666666666\n"
     ]
    }
   ],
   "source": [
    "fs = 10e3 # Hz, switching frequency\n",
    "Ts = 1/fs # Seconds, switching period\n",
    "# print(Ts)\n",
    "R = vout/iout # Ohms, load resistance\n",
    "# print(R)\n",
    "D = 1-vin/vout\n",
    "# print(D)\n",
    "dI_per_I = 0.05\n",
    "L = D*(1-D)**2*Ts*R/dI_per_I\n",
    "print(L)"
   ]
  },
  {
   "cell_type": "code",
   "execution_count": 10,
   "id": "6eb04b91",
   "metadata": {},
   "outputs": [
    {
     "name": "stdout",
     "output_type": "stream",
     "text": [
      "3.240740740740741e-05\n"
     ]
    }
   ],
   "source": [
    "dV_per_V = 0.05\n",
    "C = D*Ts/(R*dV_per_V)\n",
    "print(C)"
   ]
  },
  {
   "cell_type": "code",
   "execution_count": 11,
   "id": "5ae18928",
   "metadata": {},
   "outputs": [
    {
     "name": "stdout",
     "output_type": "stream",
     "text": [
      "5.833333333333334e-05\n"
     ]
    }
   ],
   "source": [
    "print(D*Ts)"
   ]
  },
  {
   "cell_type": "code",
   "execution_count": 14,
   "id": "06035c55",
   "metadata": {},
   "outputs": [
    {
     "name": "stdout",
     "output_type": "stream",
     "text": [
      "0.625\n"
     ]
    }
   ],
   "source": [
    "vd=0.4\n",
    "D=1-vin/(vout+vd)\n",
    "print(D)"
   ]
  }
 ],
 "metadata": {
  "kernelspec": {
   "display_name": "venv (3.13.7)",
   "language": "python",
   "name": "python3"
  },
  "language_info": {
   "codemirror_mode": {
    "name": "ipython",
    "version": 3
   },
   "file_extension": ".py",
   "mimetype": "text/x-python",
   "name": "python",
   "nbconvert_exporter": "python",
   "pygments_lexer": "ipython3",
   "version": "3.13.7"
  }
 },
 "nbformat": 4,
 "nbformat_minor": 5
}
